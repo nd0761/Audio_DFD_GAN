{
 "cells": [
  {
   "cell_type": "code",
   "execution_count": 1,
   "metadata": {},
   "outputs": [],
   "source": [
    "import numpy as np\n",
    "\n",
    "import random\n",
    "import json\n",
    "\n",
    "import torch\n",
    "from torch import nn\n",
    "from torch.utils.data import DataLoader, SubsetRandomSampler\n",
    "\n",
    "import datetime\n",
    "import sys \n",
    "import os\n",
    "sys.path.append(os.path.abspath('/tank/local/ndf3868/GODDS/GAN'))\n",
    "\n",
    "# file_path = os.path.realpath(__file__)\n",
    "\n",
    "from utils import ASV_DATASET, Generator, Discriminator, Whispers, train, test_data, set_up_metrics_list"
   ]
  },
  {
   "cell_type": "code",
   "execution_count": 2,
   "metadata": {},
   "outputs": [],
   "source": [
    "def get_current_timestamp():\n",
    "    now = datetime.datetime.now()\n",
    "    timestamp = now.strftime(\"%d%m%y-%H:%M:%S\")\n",
    "    return timestamp\n",
    "\n",
    "def set_seed(seed: int = 42) -> None:\n",
    "    random.seed(seed)\n",
    "\n",
    "    np.random.seed(seed)\n",
    "\n",
    "    torch.manual_seed(seed)\n",
    "    torch.cuda.manual_seed(seed)\n",
    "    \n",
    "    torch.backends.cudnn.deterministic = True\n",
    "    torch.backends.cudnn.benchmark = False\n",
    "    \n",
    "    os.environ[\"PYTHONHASHSEED\"] = str(seed)\n",
    "    print(f\"Random seed set as {seed}\")\n",
    "\n",
    "def get_balanced_indeces(dataset, n_samples_per_class, shuffle):\n",
    "    class_indeces = []\n",
    "\n",
    "    for label, indices in dataset.class_indeces.items():\n",
    "        chosen_indeces = np.random.choice(indices, n_samples_per_class, replace=False)\n",
    "        class_indeces.extend(chosen_indeces)\n",
    "        print(\"For class\", label, \"chose\", len(chosen_indeces), \"objects from dataset\")\n",
    "    \n",
    "    if shuffle: np.random.shuffle(class_indeces)\n",
    "    return class_indeces"
   ]
  },
  {
   "cell_type": "code",
   "execution_count": 3,
   "metadata": {},
   "outputs": [],
   "source": [
    "\n",
    "device = 'cuda' if torch.cuda.is_available() else 'cpu'"
   ]
  },
  {
   "cell_type": "code",
   "execution_count": 4,
   "metadata": {},
   "outputs": [
    {
     "name": "stdout",
     "output_type": "stream",
     "text": [
      "Random seed set as 3407\n"
     ]
    }
   ],
   "source": [
    "set_seed(3407)\n",
    "\n",
    "bonafide_class      = 0\n",
    "\n",
    "bootstrap_iterations= 10\n",
    "n_epochs            = 15\n",
    "\n",
    "input_size  = 190_000\n",
    "hidden_size = 200\n",
    "output_size = 1\n",
    "\n",
    "lr = 1e-8\n",
    "\n",
    "batch_size = 16"
   ]
  },
  {
   "cell_type": "code",
   "execution_count": 5,
   "metadata": {},
   "outputs": [],
   "source": [
    "# Generator & Optimizer for Generator\n",
    "gen = Generator(input_size, hidden_size).to(device)\n",
    "gen_opt = torch.optim.Adam(gen.parameters(), lr=lr)\n",
    "\n",
    "# Discriminator & Optimizer for Discriminator\n",
    "disc = Discriminator(input_size, hidden_size, output_size).to(device)\n",
    "disc_opt = torch.optim.Adam(disc.parameters(), lr=lr)\n",
    "\n",
    "criterion = nn.MSELoss()"
   ]
  },
  {
   "cell_type": "code",
   "execution_count": 6,
   "metadata": {},
   "outputs": [
    {
     "name": "stdout",
     "output_type": "stream",
     "text": [
      "reading TRAIN dataset\n"
     ]
    },
    {
     "data": {
      "application/vnd.jupyter.widget-view+json": {
       "model_id": "5179f0328a4e4d998a7361079fc62652",
       "version_major": 2,
       "version_minor": 0
      },
      "text/plain": [
       "Reading target:   0%|          | 0/25380 [00:00<?, ?it/s]"
      ]
     },
     "metadata": {},
     "output_type": "display_data"
    },
    {
     "name": "stdout",
     "output_type": "stream",
     "text": [
      "Size of dataset 25380\n",
      "Finished reading\n",
      "reading TEST  dataset\n"
     ]
    },
    {
     "data": {
      "application/vnd.jupyter.widget-view+json": {
       "model_id": "b6461e9fc44b4620b6a8eceabe2cd328",
       "version_major": 2,
       "version_minor": 0
      },
      "text/plain": [
       "Reading target:   0%|          | 0/24844 [00:00<?, ?it/s]"
      ]
     },
     "metadata": {},
     "output_type": "display_data"
    },
    {
     "name": "stdout",
     "output_type": "stream",
     "text": [
      "Size of dataset 24844\n",
      "Finished reading\n"
     ]
    }
   ],
   "source": [
    "asv_directory = '/tank/local/ndf3868/GODDS/datasets/ASV'\n",
    "\n",
    "print(\"reading TRAIN dataset\")\n",
    "train_dataset = ASV_DATASET(asv_directory, 'train', 'LA', class_balance=None) #oversample undersample undersample_all\n",
    "\n",
    "print(\"reading TEST  dataset\")\n",
    "test_dataset = ASV_DATASET(asv_directory, 'dev', 'LA', class_balance=None)"
   ]
  },
  {
   "cell_type": "code",
   "execution_count": 7,
   "metadata": {},
   "outputs": [
    {
     "name": "stdout",
     "output_type": "stream",
     "text": [
      "sampling TEST dataset\n",
      "For class 0 chose 2500 objects from dataset\n",
      "For class 1 chose 2500 objects from dataset\n"
     ]
    }
   ],
   "source": [
    "print(\"sampling TEST dataset\")\n",
    "sampler = SubsetRandomSampler(get_balanced_indeces(dataset=test_dataset, n_samples_per_class=2500, shuffle=False))\n",
    "test_dataloader  = DataLoader(test_dataset,  batch_size=batch_size, shuffle=False, sampler=sampler)"
   ]
  },
  {
   "cell_type": "code",
   "execution_count": 8,
   "metadata": {},
   "outputs": [
    {
     "name": "stdout",
     "output_type": "stream",
     "text": [
      "Random seed set as 3407\n",
      "sampling TRAIN dataset for bootstrap iteration 0\n",
      "For class 0 chose 2500 objects from dataset\n",
      "For class 1 chose 2500 objects from dataset\n"
     ]
    },
    {
     "data": {
      "application/vnd.jupyter.widget-view+json": {
       "model_id": "a9fce5f49c4c44e3a950eefebd61771a",
       "version_major": 2,
       "version_minor": 0
      },
      "text/plain": [
       "description:   0%|          | 0/313 [00:00<?, ?it/s]"
      ]
     },
     "metadata": {},
     "output_type": "display_data"
    },
    {
     "data": {
      "application/vnd.jupyter.widget-view+json": {
       "model_id": "816502ce52814737a34360e3355591c7",
       "version_major": 2,
       "version_minor": 0
      },
      "text/plain": [
       "description:   0%|          | 0/313 [00:00<?, ?it/s]"
      ]
     },
     "metadata": {},
     "output_type": "display_data"
    },
    {
     "data": {
      "application/vnd.jupyter.widget-view+json": {
       "model_id": "3dd5b28df3be4f6dbf7903ef1b3916c2",
       "version_major": 2,
       "version_minor": 0
      },
      "text/plain": [
       "description:   0%|          | 0/313 [00:00<?, ?it/s]"
      ]
     },
     "metadata": {},
     "output_type": "display_data"
    },
    {
     "data": {
      "application/vnd.jupyter.widget-view+json": {
       "model_id": "9c91fcbbc7c847168e02dd62e7d066bd",
       "version_major": 2,
       "version_minor": 0
      },
      "text/plain": [
       "description:   0%|          | 0/313 [00:00<?, ?it/s]"
      ]
     },
     "metadata": {},
     "output_type": "display_data"
    },
    {
     "data": {
      "application/vnd.jupyter.widget-view+json": {
       "model_id": "abc6a79cce4e47a891fe3e8b63cb1524",
       "version_major": 2,
       "version_minor": 0
      },
      "text/plain": [
       "description:   0%|          | 0/313 [00:00<?, ?it/s]"
      ]
     },
     "metadata": {},
     "output_type": "display_data"
    },
    {
     "data": {
      "application/vnd.jupyter.widget-view+json": {
       "model_id": "1a9c925ee2ca4235b46122e45edd8b28",
       "version_major": 2,
       "version_minor": 0
      },
      "text/plain": [
       "description:   0%|          | 0/313 [00:00<?, ?it/s]"
      ]
     },
     "metadata": {},
     "output_type": "display_data"
    },
    {
     "data": {
      "application/vnd.jupyter.widget-view+json": {
       "model_id": "2992a2bdf780418b944920cdaccd4512",
       "version_major": 2,
       "version_minor": 0
      },
      "text/plain": [
       "description:   0%|          | 0/313 [00:00<?, ?it/s]"
      ]
     },
     "metadata": {},
     "output_type": "display_data"
    },
    {
     "data": {
      "application/vnd.jupyter.widget-view+json": {
       "model_id": "8f021e3ac4f943fea5def05c99b4b50e",
       "version_major": 2,
       "version_minor": 0
      },
      "text/plain": [
       "description:   0%|          | 0/313 [00:00<?, ?it/s]"
      ]
     },
     "metadata": {},
     "output_type": "display_data"
    },
    {
     "data": {
      "application/vnd.jupyter.widget-view+json": {
       "model_id": "9b016f994682444baaa3a402b9611e7f",
       "version_major": 2,
       "version_minor": 0
      },
      "text/plain": [
       "description:   0%|          | 0/313 [00:00<?, ?it/s]"
      ]
     },
     "metadata": {},
     "output_type": "display_data"
    },
    {
     "data": {
      "application/vnd.jupyter.widget-view+json": {
       "model_id": "0e58eafcf91e44e59d11f8e8746adb19",
       "version_major": 2,
       "version_minor": 0
      },
      "text/plain": [
       "description:   0%|          | 0/313 [00:00<?, ?it/s]"
      ]
     },
     "metadata": {},
     "output_type": "display_data"
    },
    {
     "data": {
      "application/vnd.jupyter.widget-view+json": {
       "model_id": "03a489c031f24c3cb7aa71bad25b12db",
       "version_major": 2,
       "version_minor": 0
      },
      "text/plain": [
       "description:   0%|          | 0/313 [00:00<?, ?it/s]"
      ]
     },
     "metadata": {},
     "output_type": "display_data"
    },
    {
     "data": {
      "application/vnd.jupyter.widget-view+json": {
       "model_id": "99948640db684a41bf952eea94fec207",
       "version_major": 2,
       "version_minor": 0
      },
      "text/plain": [
       "description:   0%|          | 0/313 [00:00<?, ?it/s]"
      ]
     },
     "metadata": {},
     "output_type": "display_data"
    },
    {
     "data": {
      "application/vnd.jupyter.widget-view+json": {
       "model_id": "b40cbbe5acf4430bb1602ad542b56aef",
       "version_major": 2,
       "version_minor": 0
      },
      "text/plain": [
       "description:   0%|          | 0/313 [00:00<?, ?it/s]"
      ]
     },
     "metadata": {},
     "output_type": "display_data"
    },
    {
     "data": {
      "application/vnd.jupyter.widget-view+json": {
       "model_id": "675ead49f5ee4fee9e5d111304e84bf4",
       "version_major": 2,
       "version_minor": 0
      },
      "text/plain": [
       "description:   0%|          | 0/313 [00:00<?, ?it/s]"
      ]
     },
     "metadata": {},
     "output_type": "display_data"
    },
    {
     "data": {
      "application/vnd.jupyter.widget-view+json": {
       "model_id": "03d6aa87459549d3adbc93c9418339a2",
       "version_major": 2,
       "version_minor": 0
      },
      "text/plain": [
       "description:   0%|          | 0/313 [00:00<?, ?it/s]"
      ]
     },
     "metadata": {},
     "output_type": "display_data"
    },
    {
     "data": {
      "application/vnd.jupyter.widget-view+json": {
       "model_id": "e1cab987deba44d19bc5d810c02db59a",
       "version_major": 2,
       "version_minor": 0
      },
      "text/plain": [
       "Evaluate disc:   0%|          | 0/313 [00:00<?, ?it/s]"
      ]
     },
     "metadata": {},
     "output_type": "display_data"
    },
    {
     "name": "stdout",
     "output_type": "stream",
     "text": [
      "\n",
      "-----\n",
      "SUM using threshold 2500.0 noise 5000 clean 5000\n",
      "SUM as is 2500.0 noise 2505.131299853325 clean 2511.837711453438\n",
      "Lengths 5000 noise 5000 clean 5000\n",
      "\n",
      "----\n",
      "Examples\n",
      " [1. 0. 0. 0. 1. 0. 1. 0. 0. 0.] [0.5010232  0.50102633 0.5010251  0.5010247  0.5010249  0.501025\n",
      " 0.50102204 0.50102836 0.50102705 0.50102764] [0.5038026  0.5016787  0.5020973  0.50132066 0.50209284 0.5027038\n",
      " 0.50446016 0.5021147  0.5024534  0.50285375] \n",
      "-----\n",
      "\n",
      "sampling TRAIN dataset for bootstrap iteration 1\n",
      "For class 0 chose 2500 objects from dataset\n",
      "For class 1 chose 2500 objects from dataset\n"
     ]
    },
    {
     "name": "stderr",
     "output_type": "stream",
     "text": [
      "/home/ndf3868/anaconda3/lib/python3.11/site-packages/sklearn/metrics/_classification.py:1344: UndefinedMetricWarning: Precision is ill-defined and being set to 0.0 due to no predicted samples. Use `zero_division` parameter to control this behavior.\n",
      "  _warn_prf(average, modifier, msg_start, len(result))\n",
      "/home/ndf3868/anaconda3/lib/python3.11/site-packages/sklearn/metrics/_classification.py:1344: UndefinedMetricWarning: Precision is ill-defined and being set to 0.0 due to no predicted samples. Use `zero_division` parameter to control this behavior.\n",
      "  _warn_prf(average, modifier, msg_start, len(result))\n",
      "/home/ndf3868/anaconda3/lib/python3.11/site-packages/sklearn/metrics/_classification.py:1344: UndefinedMetricWarning: Precision is ill-defined and being set to 0.0 due to no predicted samples. Use `zero_division` parameter to control this behavior.\n",
      "  _warn_prf(average, modifier, msg_start, len(result))\n",
      "/home/ndf3868/anaconda3/lib/python3.11/site-packages/sklearn/metrics/_classification.py:1344: UndefinedMetricWarning: Precision is ill-defined and being set to 0.0 due to no predicted samples. Use `zero_division` parameter to control this behavior.\n",
      "  _warn_prf(average, modifier, msg_start, len(result))\n",
      "/home/ndf3868/anaconda3/lib/python3.11/site-packages/sklearn/metrics/_classification.py:1344: UndefinedMetricWarning: Precision is ill-defined and being set to 0.0 due to no predicted samples. Use `zero_division` parameter to control this behavior.\n",
      "  _warn_prf(average, modifier, msg_start, len(result))\n",
      "/home/ndf3868/anaconda3/lib/python3.11/site-packages/sklearn/metrics/_classification.py:1344: UndefinedMetricWarning: Precision is ill-defined and being set to 0.0 due to no predicted samples. Use `zero_division` parameter to control this behavior.\n",
      "  _warn_prf(average, modifier, msg_start, len(result))\n"
     ]
    },
    {
     "data": {
      "application/vnd.jupyter.widget-view+json": {
       "model_id": "083ae5e77bea4aa284f75d334a0c21f1",
       "version_major": 2,
       "version_minor": 0
      },
      "text/plain": [
       "description:   0%|          | 0/313 [00:00<?, ?it/s]"
      ]
     },
     "metadata": {},
     "output_type": "display_data"
    },
    {
     "data": {
      "application/vnd.jupyter.widget-view+json": {
       "model_id": "664876bb975149d98c1ac497acc8ccfc",
       "version_major": 2,
       "version_minor": 0
      },
      "text/plain": [
       "description:   0%|          | 0/313 [00:00<?, ?it/s]"
      ]
     },
     "metadata": {},
     "output_type": "display_data"
    },
    {
     "data": {
      "application/vnd.jupyter.widget-view+json": {
       "model_id": "0dc14504f7d547b695bf6c87fdd787ac",
       "version_major": 2,
       "version_minor": 0
      },
      "text/plain": [
       "description:   0%|          | 0/313 [00:00<?, ?it/s]"
      ]
     },
     "metadata": {},
     "output_type": "display_data"
    },
    {
     "data": {
      "application/vnd.jupyter.widget-view+json": {
       "model_id": "546bd09580494b98b74801476990c971",
       "version_major": 2,
       "version_minor": 0
      },
      "text/plain": [
       "description:   0%|          | 0/313 [00:00<?, ?it/s]"
      ]
     },
     "metadata": {},
     "output_type": "display_data"
    },
    {
     "data": {
      "application/vnd.jupyter.widget-view+json": {
       "model_id": "abaeba409b0245e9a8210789ef3b75ee",
       "version_major": 2,
       "version_minor": 0
      },
      "text/plain": [
       "description:   0%|          | 0/313 [00:00<?, ?it/s]"
      ]
     },
     "metadata": {},
     "output_type": "display_data"
    },
    {
     "data": {
      "application/vnd.jupyter.widget-view+json": {
       "model_id": "6e260be18d824fcab0c9e75c140afbb8",
       "version_major": 2,
       "version_minor": 0
      },
      "text/plain": [
       "description:   0%|          | 0/313 [00:00<?, ?it/s]"
      ]
     },
     "metadata": {},
     "output_type": "display_data"
    },
    {
     "data": {
      "application/vnd.jupyter.widget-view+json": {
       "model_id": "aea2ffc913f44e6f99314c61011c4181",
       "version_major": 2,
       "version_minor": 0
      },
      "text/plain": [
       "description:   0%|          | 0/313 [00:00<?, ?it/s]"
      ]
     },
     "metadata": {},
     "output_type": "display_data"
    },
    {
     "data": {
      "application/vnd.jupyter.widget-view+json": {
       "model_id": "1e19c3b6f4214d02b82dea87a7a62ca3",
       "version_major": 2,
       "version_minor": 0
      },
      "text/plain": [
       "description:   0%|          | 0/313 [00:00<?, ?it/s]"
      ]
     },
     "metadata": {},
     "output_type": "display_data"
    },
    {
     "data": {
      "application/vnd.jupyter.widget-view+json": {
       "model_id": "b3b68c3452184c9aa1e76088211c5b03",
       "version_major": 2,
       "version_minor": 0
      },
      "text/plain": [
       "description:   0%|          | 0/313 [00:00<?, ?it/s]"
      ]
     },
     "metadata": {},
     "output_type": "display_data"
    },
    {
     "data": {
      "application/vnd.jupyter.widget-view+json": {
       "model_id": "60654cd21bd142829c85cd22ca977ab0",
       "version_major": 2,
       "version_minor": 0
      },
      "text/plain": [
       "description:   0%|          | 0/313 [00:00<?, ?it/s]"
      ]
     },
     "metadata": {},
     "output_type": "display_data"
    },
    {
     "data": {
      "application/vnd.jupyter.widget-view+json": {
       "model_id": "48605b76904443eb8745bec8bfbb5d9e",
       "version_major": 2,
       "version_minor": 0
      },
      "text/plain": [
       "description:   0%|          | 0/313 [00:00<?, ?it/s]"
      ]
     },
     "metadata": {},
     "output_type": "display_data"
    },
    {
     "data": {
      "application/vnd.jupyter.widget-view+json": {
       "model_id": "2bc33402bcfc44ccb85d74dfc610970f",
       "version_major": 2,
       "version_minor": 0
      },
      "text/plain": [
       "description:   0%|          | 0/313 [00:00<?, ?it/s]"
      ]
     },
     "metadata": {},
     "output_type": "display_data"
    },
    {
     "data": {
      "application/vnd.jupyter.widget-view+json": {
       "model_id": "eb52baf1db024307a7660200fc23f4ed",
       "version_major": 2,
       "version_minor": 0
      },
      "text/plain": [
       "description:   0%|          | 0/313 [00:00<?, ?it/s]"
      ]
     },
     "metadata": {},
     "output_type": "display_data"
    },
    {
     "data": {
      "application/vnd.jupyter.widget-view+json": {
       "model_id": "49b875e37e204f20b7c7850c05aa16b8",
       "version_major": 2,
       "version_minor": 0
      },
      "text/plain": [
       "description:   0%|          | 0/313 [00:00<?, ?it/s]"
      ]
     },
     "metadata": {},
     "output_type": "display_data"
    },
    {
     "data": {
      "application/vnd.jupyter.widget-view+json": {
       "model_id": "710fed32111f442aa5d4300b666ae420",
       "version_major": 2,
       "version_minor": 0
      },
      "text/plain": [
       "description:   0%|          | 0/313 [00:00<?, ?it/s]"
      ]
     },
     "metadata": {},
     "output_type": "display_data"
    },
    {
     "data": {
      "application/vnd.jupyter.widget-view+json": {
       "model_id": "a555a6de4e404d47bdce8bbbfb3d2e43",
       "version_major": 2,
       "version_minor": 0
      },
      "text/plain": [
       "Evaluate disc:   0%|          | 0/313 [00:00<?, ?it/s]"
      ]
     },
     "metadata": {},
     "output_type": "display_data"
    },
    {
     "name": "stdout",
     "output_type": "stream",
     "text": [
      "\n",
      "-----\n",
      "SUM using threshold 2500.0 noise 0 clean 3503\n",
      "SUM as is 2500.0 noise 2492.9759769141674 clean 2507.814911067486\n",
      "Lengths 5000 noise 5000 clean 5000\n",
      "\n",
      "----\n",
      "Examples\n",
      " [1. 1. 0. 1. 1. 0. 1. 0. 1. 1.] [0.49859372 0.49859384 0.49859664 0.4985945  0.4985927  0.49859527\n",
      " 0.49859527 0.49859703 0.4985975  0.49859586] [0.5065608  0.5019731  0.49884433 0.50103825 0.5050346  0.49983555\n",
      " 0.50522405 0.5003727  0.5001227  0.50022036] \n",
      "-----\n",
      "\n",
      "sampling TRAIN dataset for bootstrap iteration 2\n",
      "For class 0 chose 2500 objects from dataset\n",
      "For class 1 chose 2500 objects from dataset\n"
     ]
    },
    {
     "data": {
      "application/vnd.jupyter.widget-view+json": {
       "model_id": "ec56b44630904980a55b06e6e4b3ed3c",
       "version_major": 2,
       "version_minor": 0
      },
      "text/plain": [
       "description:   0%|          | 0/313 [00:00<?, ?it/s]"
      ]
     },
     "metadata": {},
     "output_type": "display_data"
    },
    {
     "data": {
      "application/vnd.jupyter.widget-view+json": {
       "model_id": "0ffb507d429d43c58eaab0f902e358b5",
       "version_major": 2,
       "version_minor": 0
      },
      "text/plain": [
       "description:   0%|          | 0/313 [00:00<?, ?it/s]"
      ]
     },
     "metadata": {},
     "output_type": "display_data"
    },
    {
     "data": {
      "application/vnd.jupyter.widget-view+json": {
       "model_id": "36d9291305fa41e0adee3cbdafea2f76",
       "version_major": 2,
       "version_minor": 0
      },
      "text/plain": [
       "description:   0%|          | 0/313 [00:00<?, ?it/s]"
      ]
     },
     "metadata": {},
     "output_type": "display_data"
    },
    {
     "data": {
      "application/vnd.jupyter.widget-view+json": {
       "model_id": "3c2003b0bf104fcbbb67815082cf6d06",
       "version_major": 2,
       "version_minor": 0
      },
      "text/plain": [
       "description:   0%|          | 0/313 [00:00<?, ?it/s]"
      ]
     },
     "metadata": {},
     "output_type": "display_data"
    },
    {
     "data": {
      "application/vnd.jupyter.widget-view+json": {
       "model_id": "f9a56f133fc941bfada5926ee0dc8520",
       "version_major": 2,
       "version_minor": 0
      },
      "text/plain": [
       "description:   0%|          | 0/313 [00:00<?, ?it/s]"
      ]
     },
     "metadata": {},
     "output_type": "display_data"
    },
    {
     "data": {
      "application/vnd.jupyter.widget-view+json": {
       "model_id": "4ee538c388644e1daedf0ce160d78c79",
       "version_major": 2,
       "version_minor": 0
      },
      "text/plain": [
       "description:   0%|          | 0/313 [00:00<?, ?it/s]"
      ]
     },
     "metadata": {},
     "output_type": "display_data"
    },
    {
     "data": {
      "application/vnd.jupyter.widget-view+json": {
       "model_id": "e3f250d7d5f24d9aaf6dc670e5ff4ffc",
       "version_major": 2,
       "version_minor": 0
      },
      "text/plain": [
       "description:   0%|          | 0/313 [00:00<?, ?it/s]"
      ]
     },
     "metadata": {},
     "output_type": "display_data"
    },
    {
     "data": {
      "application/vnd.jupyter.widget-view+json": {
       "model_id": "2e5865223f72452387409614aa69392b",
       "version_major": 2,
       "version_minor": 0
      },
      "text/plain": [
       "description:   0%|          | 0/313 [00:00<?, ?it/s]"
      ]
     },
     "metadata": {},
     "output_type": "display_data"
    },
    {
     "data": {
      "application/vnd.jupyter.widget-view+json": {
       "model_id": "85c8361ebde7494993214d655c6b5da3",
       "version_major": 2,
       "version_minor": 0
      },
      "text/plain": [
       "description:   0%|          | 0/313 [00:00<?, ?it/s]"
      ]
     },
     "metadata": {},
     "output_type": "display_data"
    },
    {
     "data": {
      "application/vnd.jupyter.widget-view+json": {
       "model_id": "c2c4b17c5731447c9919effe87459997",
       "version_major": 2,
       "version_minor": 0
      },
      "text/plain": [
       "description:   0%|          | 0/313 [00:00<?, ?it/s]"
      ]
     },
     "metadata": {},
     "output_type": "display_data"
    },
    {
     "data": {
      "application/vnd.jupyter.widget-view+json": {
       "model_id": "1fe37b3510fa4c8182c6359baa4afd87",
       "version_major": 2,
       "version_minor": 0
      },
      "text/plain": [
       "description:   0%|          | 0/313 [00:00<?, ?it/s]"
      ]
     },
     "metadata": {},
     "output_type": "display_data"
    },
    {
     "data": {
      "application/vnd.jupyter.widget-view+json": {
       "model_id": "f6f05b71f95942f8a6af95df5bdec585",
       "version_major": 2,
       "version_minor": 0
      },
      "text/plain": [
       "description:   0%|          | 0/313 [00:00<?, ?it/s]"
      ]
     },
     "metadata": {},
     "output_type": "display_data"
    },
    {
     "data": {
      "application/vnd.jupyter.widget-view+json": {
       "model_id": "211a491dfeb24fd3a2c3c7910db156a4",
       "version_major": 2,
       "version_minor": 0
      },
      "text/plain": [
       "description:   0%|          | 0/313 [00:00<?, ?it/s]"
      ]
     },
     "metadata": {},
     "output_type": "display_data"
    },
    {
     "data": {
      "application/vnd.jupyter.widget-view+json": {
       "model_id": "cec289813418442098f44c507390d60b",
       "version_major": 2,
       "version_minor": 0
      },
      "text/plain": [
       "description:   0%|          | 0/313 [00:00<?, ?it/s]"
      ]
     },
     "metadata": {},
     "output_type": "display_data"
    }
   ],
   "source": [
    "set_seed(3407)\n",
    "for _ in range(bootstrap_iterations):#bootstrap_iterations):\n",
    "\n",
    "    print(\"sampling TRAIN dataset for bootstrap iteration\", _)\n",
    "    sampler = SubsetRandomSampler(get_balanced_indeces(dataset=train_dataset, n_samples_per_class=2500, shuffle=True))\n",
    "    # dataset = CustomAudioDataset(audio_samples, targets)\n",
    "    train_dataloader = DataLoader(train_dataset, batch_size=batch_size, sampler=sampler)\n",
    "\n",
    "\n",
    "    # print(get_current_timestamp())\n",
    "    train(train_dataloader, gen, disc, \n",
    "        criterion, disc_opt, gen_opt, \n",
    "        15, device)\n",
    "    \n",
    "    logs_dir = '/tank/local/ndf3868/GODDS/GAN/logs'\n",
    "    metrics_list    = set_up_metrics_list(train_dataset.bonafide_class)\n",
    "    metrics         = test_data(metrics_list, gen, disc, test_dataloader, device)\n",
    "    timestamp = f'{get_current_timestamp()}'\n",
    "    # timestamp = 'None'\n",
    "    with open(os.path.join(logs_dir, f\"{timestamp}_sample_iteration_{_}.json\"), \"w\") as outfile: \n",
    "        json.dump(metrics, outfile)\n",
    "    # print(metrics)"
   ]
  },
  {
   "cell_type": "code",
   "execution_count": null,
   "metadata": {},
   "outputs": [],
   "source": []
  }
 ],
 "metadata": {
  "kernelspec": {
   "display_name": "base",
   "language": "python",
   "name": "python3"
  },
  "language_info": {
   "codemirror_mode": {
    "name": "ipython",
    "version": 3
   },
   "file_extension": ".py",
   "mimetype": "text/x-python",
   "name": "python",
   "nbconvert_exporter": "python",
   "pygments_lexer": "ipython3",
   "version": "3.11.7"
  }
 },
 "nbformat": 4,
 "nbformat_minor": 2
}
